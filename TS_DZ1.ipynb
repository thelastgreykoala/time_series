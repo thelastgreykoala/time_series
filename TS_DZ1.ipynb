{
  "nbformat": 4,
  "nbformat_minor": 0,
  "metadata": {
    "colab": {
      "provenance": [],
      "authorship_tag": "ABX9TyO1MjlU4H6cBIT8qD6J6yWT",
      "include_colab_link": true
    },
    "kernelspec": {
      "name": "python3",
      "display_name": "Python 3"
    },
    "language_info": {
      "name": "python"
    }
  },
  "cells": [
    {
      "cell_type": "markdown",
      "metadata": {
        "id": "view-in-github",
        "colab_type": "text"
      },
      "source": [
        "<a href=\"https://colab.research.google.com/github/thelastgreykoala/time_series/blob/main/TS_DZ1.ipynb\" target=\"_parent\"><img src=\"https://colab.research.google.com/assets/colab-badge.svg\" alt=\"Open In Colab\"/></a>"
      ]
    },
    {
      "cell_type": "code",
      "execution_count": 1,
      "metadata": {
        "id": "kynuiZbLD8EB"
      },
      "outputs": [],
      "source": [
        "import pandas as pd"
      ]
    },
    {
      "cell_type": "code",
      "source": [
        "sales_of_company_x = pd.read_csv(\"monthly-sales-of-company-x-jan-6.csv\", index_col = 'Month', parse_dates = True)\n",
        "monthly_car = pd.read_csv(\"monthly-car-sales-in-quebec-1960.csv\", index_col = 'Month', parse_dates = True)\n",
        "airlines_passengers = pd.read_csv(\"international-airline-passengers.csv\", index_col = 'Month', parse_dates = True)\n"
      ],
      "metadata": {
        "id": "oYFBJY_NEXr8"
      },
      "execution_count": 8,
      "outputs": []
    }
  ]
}